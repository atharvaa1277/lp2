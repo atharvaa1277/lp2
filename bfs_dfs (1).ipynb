{
 "cells": [
  {
   "cell_type": "code",
   "execution_count": 1,
   "id": "46ed8a2e-e9b6-430a-a91a-ecbc4d1f86a1",
   "metadata": {},
   "outputs": [
    {
     "name": "stdout",
     "output_type": "stream",
     "text": [
      "Options:\n",
      "1. Create Graph\n",
      "2. BFS\n",
      "3. DFS\n",
      "4. Exit\n"
     ]
    },
    {
     "name": "stdin",
     "output_type": "stream",
     "text": [
      "Enter your choice:  1\n",
      "Enter the number of nodes:  4\n",
      "Enter node 1:  1\n",
      "Enter neighbors for node 1 (comma-separated, press Enter if none):  6,7\n",
      "Enter node 2:  3\n",
      "Enter neighbors for node 3 (comma-separated, press Enter if none):  2,4\n",
      "Enter node 3:  5\n",
      "Enter neighbors for node 5 (comma-separated, press Enter if none):  1,2\n",
      "Enter node 4:  6\n",
      "Enter neighbors for node 6 (comma-separated, press Enter if none):  5\n"
     ]
    },
    {
     "name": "stdout",
     "output_type": "stream",
     "text": [
      "Options:\n",
      "1. Create Graph\n",
      "2. BFS\n",
      "3. DFS\n",
      "4. Exit\n"
     ]
    },
    {
     "name": "stdin",
     "output_type": "stream",
     "text": [
      "Enter your choice:  2\n",
      "Enter the starting node:  1\n"
     ]
    },
    {
     "name": "stdout",
     "output_type": "stream",
     "text": [
      "Executing BFS search\n",
      "1\n",
      "6\n",
      "7\n",
      "5\n",
      "2\n",
      "Options:\n",
      "1. Create Graph\n",
      "2. BFS\n",
      "3. DFS\n",
      "4. Exit\n"
     ]
    },
    {
     "name": "stdin",
     "output_type": "stream",
     "text": [
      "Enter your choice:  h\n"
     ]
    },
    {
     "name": "stdout",
     "output_type": "stream",
     "text": [
      "Invalid choice. Please enter a valid option.\n",
      "Options:\n",
      "1. Create Graph\n",
      "2. BFS\n",
      "3. DFS\n",
      "4. Exit\n"
     ]
    },
    {
     "name": "stdin",
     "output_type": "stream",
     "text": [
      "Enter your choice:  dff\n"
     ]
    },
    {
     "name": "stdout",
     "output_type": "stream",
     "text": [
      "Invalid choice. Please enter a valid option.\n",
      "Options:\n",
      "1. Create Graph\n",
      "2. BFS\n",
      "3. DFS\n",
      "4. Exit\n"
     ]
    },
    {
     "name": "stdin",
     "output_type": "stream",
     "text": [
      "Enter your choice:  4\n"
     ]
    },
    {
     "name": "stdout",
     "output_type": "stream",
     "text": [
      "Exiting...\n"
     ]
    }
   ],
   "source": [
    "class Graph:\n",
    "    def __init__(self, graph):\n",
    "        self.visited = []\n",
    "        self.queue = []\n",
    "        self.graph = graph\n",
    "\n",
    "    def bfs(self, node):\n",
    "        print(node)\n",
    "        if node not in self.visited:\n",
    "            self.visited.append(node)\n",
    "\n",
    "        if node in self.graph:\n",
    "            for neighbour in self.graph[node]:\n",
    "                if neighbour not in self.visited and neighbour not in self.queue:\n",
    "                    self.queue.append(neighbour) \n",
    "\n",
    "        if self.queue:\n",
    "            vertex = self.queue.pop(0)\n",
    "            self.visited.append(vertex)\n",
    "            self.bfs(vertex)\n",
    "            \n",
    "    def dfs(self,node):\n",
    "        if node not in self.visited:\n",
    "            print(node)\n",
    "            self.visited.append(node)\n",
    "            if node in self.graph:\n",
    "                for neighbour in self.graph[node]:\n",
    "                    self.dfs(neighbour)\n",
    "                \n",
    "def create_graph():\n",
    "    graph = {}\n",
    "    nodes = int(input(\"Enter the number of nodes: \"))\n",
    "\n",
    "    for i in range(nodes):\n",
    "        node = input(f\"Enter node {i + 1}: \")\n",
    "        neighbors = input(f\"Enter neighbors for node {node} (comma-separated, press Enter if none): \")\n",
    "        graph[node] = neighbors.split(',')\n",
    "    \n",
    "    return graph\n",
    "\n",
    "\n",
    "def main():\n",
    "    while True:\n",
    "        print(\"Options:\")\n",
    "        print(\"1. Create Graph\")\n",
    "        print(\"2. BFS\")\n",
    "        print(\"3. DFS\")\n",
    "        print(\"4. Exit\")\n",
    "        choice = input(\"Enter your choice: \")\n",
    "\n",
    "        if choice == \"1\":\n",
    "            graph = create_graph()\n",
    "        elif choice == \"2\":\n",
    "            start_node = input(\"Enter the starting node: \")\n",
    "            g = Graph(graph)\n",
    "            print(\"Executing BFS search\")\n",
    "            g.bfs(start_node)\n",
    "        elif choice == \"3\":\n",
    "            start_node = input(\"Enter the starting node: \")\n",
    "            g = Graph(graph)\n",
    "            print(\"Executing DFS search\")\n",
    "            g.dfs(start_node)\n",
    "        elif choice == \"4\":\n",
    "            print(\"Exiting...\")\n",
    "            break\n",
    "        else:\n",
    "            print(\"Invalid choice. Please enter a valid option.\")\n",
    "\n",
    "main()"
   ]
  },
  {
   "cell_type": "code",
   "execution_count": 2,
   "id": "0e8057ae-9a53-406c-8c61-94bb4923ab77",
   "metadata": {},
   "outputs": [
    {
     "name": "stdout",
     "output_type": "stream",
     "text": [
      "0\n",
      "1\n",
      "3\n",
      "2\n",
      "4\n"
     ]
    }
   ],
   "source": [
    "#DFS\n",
    "\n",
    "g = {\n",
    "    0:[1,2],\n",
    "    1:[0,3,4],\n",
    "    2:[3,0],\n",
    "    3:[2,1,4],\n",
    "    4:[3,1]\n",
    "}\n",
    "\n",
    "def dfs(g,s):\n",
    "    vis[s] = 1;\n",
    "    print(s)\n",
    "    for c in g[s]:\n",
    "        if not vis[c]:\n",
    "            dfs(g,c)\n",
    "\n",
    "vis = [0] * 5\n",
    "dfs(g,0)"
   ]
  },
  {
   "cell_type": "code",
   "execution_count": 3,
   "id": "69d8dbee-c532-4bbc-8aad-fa51184087d9",
   "metadata": {},
   "outputs": [
    {
     "name": "stdout",
     "output_type": "stream",
     "text": [
      "0\n",
      "1\n",
      "2\n",
      "3\n",
      "4\n"
     ]
    }
   ],
   "source": [
    "#BFS\n",
    "\n",
    "def bfs(g,s):\n",
    "    q = [s]\n",
    "    vis = [s]\n",
    "    while q:\n",
    "        cur = q.pop(0)\n",
    "        print(cur)\n",
    "        for c in g[cur]:\n",
    "            if c not in vis:\n",
    "                q.append(c)\n",
    "                vis.append(c)\n",
    "\n",
    "bfs(g,0)"
   ]
  },
  {
   "cell_type": "code",
   "execution_count": null,
   "id": "0e5a046e-ec09-4e3e-b7a0-e5b149124e09",
   "metadata": {},
   "outputs": [],
   "source": []
  }
 ],
 "metadata": {
  "kernelspec": {
   "display_name": "Python 3 (ipykernel)",
   "language": "python",
   "name": "python3"
  },
  "language_info": {
   "codemirror_mode": {
    "name": "ipython",
    "version": 3
   },
   "file_extension": ".py",
   "mimetype": "text/x-python",
   "name": "python",
   "nbconvert_exporter": "python",
   "pygments_lexer": "ipython3",
   "version": "3.11.7"
  }
 },
 "nbformat": 4,
 "nbformat_minor": 5
}
