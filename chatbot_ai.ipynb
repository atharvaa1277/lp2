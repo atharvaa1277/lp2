{
 "cells": [
  {
   "cell_type": "code",
   "execution_count": 1,
   "id": "ddfd8529-f83c-4189-a21f-2de2b1978720",
   "metadata": {},
   "outputs": [
    {
     "name": "stdout",
     "output_type": "stream",
     "text": [
      "Hey!Welcome to Shopizo!\n"
     ]
    },
    {
     "name": "stdin",
     "output_type": "stream",
     "text": [
      "What's your name?  abc\n"
     ]
    },
    {
     "name": "stdout",
     "output_type": "stream",
     "text": [
      "Nice to meet you, abc! How can I help you?\n"
     ]
    },
    {
     "name": "stdin",
     "output_type": "stream",
     "text": [
      "You:  hi\n"
     ]
    },
    {
     "name": "stdout",
     "output_type": "stream",
     "text": [
      "Shopizo: I'm sorry, I didn't understand that.\n"
     ]
    },
    {
     "name": "stdin",
     "output_type": "stream",
     "text": [
      "You:  i want to track my order\n"
     ]
    },
    {
     "name": "stdout",
     "output_type": "stream",
     "text": [
      "Shopizo: ok!Can you tell me order number?\n"
     ]
    },
    {
     "name": "stdin",
     "output_type": "stream",
     "text": [
      "You:  bye\n"
     ]
    },
    {
     "name": "stdout",
     "output_type": "stream",
     "text": [
      "Shopizo: Goodbye!\n"
     ]
    },
    {
     "name": "stdin",
     "output_type": "stream",
     "text": [
      "You:  exit\n"
     ]
    },
    {
     "name": "stdout",
     "output_type": "stream",
     "text": [
      "Shopizo: Goodbye!\n"
     ]
    }
   ],
   "source": [
    "\n",
    "\n",
    "import random\n",
    "\n",
    "def greet():\n",
    "    greetings = [\"Hi there!Welcome to Shopizo!\", \"Hello!Welcome to Shopizo!\", \"Hey!Welcome to Shopizo!\"]\n",
    "    return random.choice(greetings)\n",
    "\n",
    "def ask_name():\n",
    "    return input(\"What's your name? \")\n",
    "\n",
    "def chat():\n",
    "    print(greet())\n",
    "    name = ask_name()\n",
    "    print(\"Nice to meet you, \" + name + \"! How can I help you?\")\n",
    "    while True:\n",
    "        user_input = input(\"You: \")\n",
    "        if user_input.lower() == 'exit':\n",
    "            print(\"Shopizo: Goodbye!\")\n",
    "            break\n",
    "        else:\n",
    "            response = generate_response(user_input)\n",
    "            print(\"Shopizo:\", response)\n",
    "\n",
    "def generate_response(user_input):\n",
    "    responses = {\n",
    "        \"i want to track my order\": \"ok!Can you tell me order number?\",\n",
    "        \"i want to update my contact number\": \"Sure!Enter your new contact number\",\n",
    "        \"i want to have a call with your authority\": \"OK.You will receive a call soon!\",\n",
    "        \"when Will I receive my order\": \"Tell me your Order number\",\n",
    "        \"i want to update my adress\": \"Sure sir,tell us your new address.\",\n",
    "        \"what is the procedure for exchanging order\": \"Go to my orders,go to your recent order for exchange,select the option for exhange\",\n",
    "        \"what is the processs for return?\": \"Go to my orders,go to your recent order for exchange,select the option for return\",\n",
    "        \"my money after return hasn't deposited yet,please  let me know\": \"Can I know your account number?\",\n",
    "        \"in how many days is product generally delivered\": \"Generally in less than 4-5 days\",\n",
    "        \"will I get exchange in case of damaged products\": \"Which products can be exchanged is specified at the begining of product.So you will get an exchange at only those products. \",\n",
    "        \"thank you\": \"You're welcome!\",\n",
    "        \"bye\": \"Goodbye!\",\n",
    "        \"exit\": \"Goodbye!\",\n",
    "\n",
    "    }\n",
    "    response = responses.get(user_input.lower(), \"I'm sorry, I didn't understand that.\")\n",
    "    return response\n",
    "\n",
    "chat()\n",
    "\n"
   ]
  },
  {
   "cell_type": "code",
   "execution_count": 3,
   "id": "98db499c-d4ce-4fca-85ce-bbff25d4a7a5",
   "metadata": {},
   "outputs": [
    {
     "name": "stdout",
     "output_type": "stream",
     "text": [
      "Hi there!\n"
     ]
    },
    {
     "name": "stdin",
     "output_type": "stream",
     "text": [
      "What's your name?  abc\n"
     ]
    },
    {
     "name": "stdout",
     "output_type": "stream",
     "text": [
      "Nice to meet you, abc!\n"
     ]
    },
    {
     "name": "stdin",
     "output_type": "stream",
     "text": [
      "You:  bye\n"
     ]
    },
    {
     "name": "stdout",
     "output_type": "stream",
     "text": [
      "Bot: Thank you for visiting our store! Have a great day!\n"
     ]
    },
    {
     "name": "stdin",
     "output_type": "stream",
     "text": [
      "You:  exit\n"
     ]
    },
    {
     "name": "stdout",
     "output_type": "stream",
     "text": [
      "Bot: Goodbye!\n"
     ]
    }
   ],
   "source": [
    "import random\n",
    "\n",
    "def greet():\n",
    "    greetings = [\"Hi there!\", \"Hello!\", \"Hey!\"]\n",
    "    return random.choice(greetings)\n",
    "\n",
    "def ask_name():\n",
    "    return input(\"What's your name? \")\n",
    "\n",
    "def chat():\n",
    "    print(greet())\n",
    "    name = ask_name()\n",
    "    print(\"Nice to meet you, \" + name + \"!\")\n",
    "    while True:\n",
    "        user_input = input(\"You: \")\n",
    "        if user_input.lower() == 'exit':\n",
    "            print(\"Bot: Goodbye!\")\n",
    "            break\n",
    "        else:\n",
    "            response = generate_response(user_input)\n",
    "            print(\"Bot:\", response)\n",
    "\n",
    "def generate_response(user_input):\n",
    "    responses = {\n",
    "        \"hello\": \"Hello! Welcome to our online store. How can I assist you today?\",\n",
    "        \"what products do you offer?\": \"We offer a wide range of products including electronics, clothing, accessories, home goods, and more!\",\n",
    "        \"do you have any sales or promotions?\": \"Yes, we often have sales and promotions! You can check our website or sign up for our newsletter to stay updated.\",\n",
    "        \"can I track my order?\": \"Of course! Please provide your order number and I'll look up the status for you.\",\n",
    "        \"how do I return an item?\": \"We have a hassle-free return policy. Simply contact our customer service team and they'll assist you with the return process.\",\n",
    "        \"what payment methods do you accept?\": \"We accept various payment methods including credit/debit cards, PayPal, and bank transfers.\",\n",
    "        \"do you offer international shipping?\": \"Yes, we offer international shipping to many countries. You can check the shipping options during checkout.\",\n",
    "        \"how long does shipping take?\": \"Shipping times depend on your location and the shipping method chosen. You can find estimated delivery times during checkout.\",\n",
    "        \"is my personal information secure?\": \"Absolutely! We take customer privacy and security very seriously. Your personal information is encrypted and protected.\",\n",
    "        \"what's your refund policy?\": \"We offer refunds on eligible items within a specified period. Please refer to our refund policy for more details.\",\n",
    "        \"do you have a customer loyalty program?\": \"Yes, we have a loyalty program where you can earn points for every purchase and redeem them for discounts or rewards.\",\n",
    "        \"can I speak to a human representative?\": \"Certainly! If you need further assistance, please contact our customer service team and they'll be happy to help.\",\n",
    "        \"bye\": \"Thank you for visiting our store! Have a great day!\",\n",
    "    }\n",
    "    response = responses.get(user_input.lower(), \"I'm sorry, I didn't understand that.\")\n",
    "    return response\n",
    "\n",
    "if __name__ == \"__main__\":\n",
    "    chat()"
   ]
  },
  {
   "cell_type": "code",
   "execution_count": 5,
   "id": "e0053bce-26bd-4725-b033-0ca3a3391d63",
   "metadata": {},
   "outputs": [
    {
     "ename": "IndentationError",
     "evalue": "expected an indented block after 'if' statement on line 16 (4185192344.py, line 17)",
     "output_type": "error",
     "traceback": [
      "\u001b[1;36m  Cell \u001b[1;32mIn[5], line 17\u001b[1;36m\u001b[0m\n\u001b[1;33m    print(\"goodbye\")\u001b[0m\n\u001b[1;37m    ^\u001b[0m\n\u001b[1;31mIndentationError\u001b[0m\u001b[1;31m:\u001b[0m expected an indented block after 'if' statement on line 16\n"
     ]
    }
   ],
   "source": [
    "import random\n",
    "\n",
    "def greet():\n",
    "    greetings=[\"hi\"]\n",
    "    return random.choice(greetings)\n",
    "\n",
    "def ask_name():\n",
    "    return input(\"whats your name\")\n",
    "\n",
    "def chat():\n",
    "    print(greet())\n",
    "    name=ask_name()\n",
    "    print(\"hey\"+name+\"nice to know u\")\n",
    "    while True:\n",
    "        user_input=input(\"you:\")\n",
    "        if user_input.lower()=='exit':\n",
    "        print(\"goodbye\")\n",
    "        break\n",
    "else:\n",
    "response=generate_response(user_input)\n",
    "print(\"alex\",respone)\n",
    "\n",
    "def generate_response(user_input):\n",
    "    responses={ \"hello\": \"Hello! Welcome to our online store. How can I assist you today?\",\n",
    "        \"what products do you offer?\": \"We offer a wide range of products including electronics, clothing, accessories, home goods, and more!\",\n",
    "        \"do you have any sales or promotions?\": \"Yes, we often have sales and promotions! You can check our website or sign up for our newsletter to stay updated.\",\n",
    "        \"can I track my order?\": \"Of course! Please provide your order number and I'll look up the status for you.\",\n",
    "        \"how do I return an item?\": \"We have a hassle-free return policy. Simply contact our customer service team and they'll assist you with the return process.\",\n",
    "        \"what payment methods do you accept?\": \"We accept various payment methods including credit/debit cards, PayPal, and bank transfers.\",\n",
    "        \"do you offer international shipping?\": \"Yes, we offer international shipping to many countries. You can check the shipping options during checkout.\",\n",
    "        \"how long does shipping take?\": \"Shipping times depend on your location and the shipping method chosen. You can find estimated delivery times during checkout.\",\n",
    "        \"is my personal information secure?\": \"Absolutely! We take customer privacy and security very seriously. Your personal information is encrypted and protected.\",\n",
    "        \"what's your refund policy?\": \"We offer refunds on eligible items within a specified period. Please refer to our refund policy for more details.\",\n",
    "        \"do you have a customer loyalty program?\": \"Yes, we have a loyalty program where you can earn points for every purchase and redeem them for discounts or rewards.\",\n",
    "        \"can I speak to a human representative?\": \"Certainly! If you need further assistance, please contact our customer service team and they'll be happy to help.\",\n",
    "        \"bye\": \"Thank you for visiting our store! Have a great day!\"}\n",
    "    response=responses.get(user.lower(),\"hv a nc day\")\n",
    "    return response\n",
    "\n",
    "chat()"
   ]
  },
  {
   "cell_type": "code",
   "execution_count": 7,
   "id": "5d69b7e7-eafd-4c6e-9c29-4b7afb41bd52",
   "metadata": {},
   "outputs": [
    {
     "name": "stdout",
     "output_type": "stream",
     "text": [
      "hi\n"
     ]
    },
    {
     "name": "stdin",
     "output_type": "stream",
     "text": [
      "whats ur name abc\n"
     ]
    },
    {
     "name": "stdout",
     "output_type": "stream",
     "text": [
      "hiabchow can i help u\n"
     ]
    },
    {
     "name": "stdin",
     "output_type": "stream",
     "text": [
      "you: hello\n"
     ]
    },
    {
     "name": "stdout",
     "output_type": "stream",
     "text": [
      "alex Hello! Welcome to our online store. How can I assist you today?\n"
     ]
    },
    {
     "name": "stdin",
     "output_type": "stream",
     "text": [
      "you: bye\n"
     ]
    },
    {
     "name": "stdout",
     "output_type": "stream",
     "text": [
      "alex Thank you for visiting our store! Have a great day!\n"
     ]
    },
    {
     "name": "stdin",
     "output_type": "stream",
     "text": [
      "you: exit\n"
     ]
    },
    {
     "name": "stdout",
     "output_type": "stream",
     "text": [
      "goodbye\n"
     ]
    }
   ],
   "source": [
    "import random\n",
    "\n",
    "def greet():\n",
    "    greetings=[\"hi\"]\n",
    "    return random.choice(greetings)\n",
    "\n",
    "def ask_name():\n",
    "    return input(\"whats ur name\")\n",
    "\n",
    "def chat():\n",
    "    print(greet())\n",
    "    name=ask_name()\n",
    "    print(\"hi\"+name+\"how can i help u\")\n",
    "    while True:\n",
    "        user_input=input(\"you:\")\n",
    "        if user_input.lower()=='exit':\n",
    "            print(\"goodbye\")\n",
    "            break\n",
    "        else:\n",
    "            response=generate_response(user_input)\n",
    "            print(\"alex\",response)\n",
    "\n",
    "def generate_response(user_input):\n",
    "    responses={\n",
    "         \"hello\": \"Hello! Welcome to our online store. How can I assist you today?\",\n",
    "        \"what products do you offer?\": \"We offer a wide range of products including electronics, clothing, accessories, home goods, and more!\",\n",
    "        \"do you have any sales or promotions?\": \"Yes, we often have sales and promotions! You can check our website or sign up for our newsletter to stay updated.\",\n",
    "        \"can I track my order?\": \"Of course! Please provide your order number and I'll look up the status for you.\",\n",
    "        \"how do I return an item?\": \"We have a hassle-free return policy. Simply contact our customer service team and they'll assist you with the return process.\",\n",
    "        \"what payment methods do you accept?\": \"We accept various payment methods including credit/debit cards, PayPal, and bank transfers.\",\n",
    "        \"do you offer international shipping?\": \"Yes, we offer international shipping to many countries. You can check the shipping options during checkout.\",\n",
    "        \"how long does shipping take?\": \"Shipping times depend on your location and the shipping method chosen. You can find estimated delivery times during checkout.\",\n",
    "        \"is my personal information secure?\": \"Absolutely! We take customer privacy and security very seriously. Your personal information is encrypted and protected.\",\n",
    "        \"what's your refund policy?\": \"We offer refunds on eligible items within a specified period. Please refer to our refund policy for more details.\",\n",
    "        \"do you have a customer loyalty program?\": \"Yes, we have a loyalty program where you can earn points for every purchase and redeem them for discounts or rewards.\",\n",
    "        \"can I speak to a human representative?\": \"Certainly! If you need further assistance, please contact our customer service team and they'll be happy to help.\",\n",
    "        \"bye\": \"Thank you for visiting our store! Have a great day!\"}\n",
    "    response=responses.get(user_input.lower(),\"cant understand\")\n",
    "    return response\n",
    "\n",
    "chat()"
   ]
  },
  {
   "cell_type": "code",
   "execution_count": null,
   "id": "f7b83ddf-f9fa-4c4d-9019-c2653bbb2261",
   "metadata": {},
   "outputs": [],
   "source": []
  }
 ],
 "metadata": {
  "kernelspec": {
   "display_name": "Python 3 (ipykernel)",
   "language": "python",
   "name": "python3"
  },
  "language_info": {
   "codemirror_mode": {
    "name": "ipython",
    "version": 3
   },
   "file_extension": ".py",
   "mimetype": "text/x-python",
   "name": "python",
   "nbconvert_exporter": "python",
   "pygments_lexer": "ipython3",
   "version": "3.11.7"
  }
 },
 "nbformat": 4,
 "nbformat_minor": 5
}
