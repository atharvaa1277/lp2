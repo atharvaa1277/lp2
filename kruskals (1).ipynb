{
 "cells": [
  {
   "cell_type": "code",
   "execution_count": 1,
   "id": "6aebeafe-4f3d-4c12-963f-63aee514c419",
   "metadata": {},
   "outputs": [
    {
     "name": "stdin",
     "output_type": "stream",
     "text": [
      "Enter the number of edges:  5\n",
      "Enter edge (source destination weight):  a b 2\n",
      "Enter edge (source destination weight):  c d 2\n",
      "Enter edge (source destination weight):  a e 5\n",
      "Enter edge (source destination weight):  e f 7\n",
      "Enter edge (source destination weight):  e g 3\n"
     ]
    },
    {
     "name": "stdout",
     "output_type": "stream",
     "text": [
      "Minimum Spanning Tree (Kruskal's Algorithm): [('a', 'b', 2), ('c', 'd', 2), ('e', 'g', 3), ('a', 'e', 5), ('e', 'f', 7)]\n"
     ]
    }
   ],
   "source": [
    "class DisjointSet:\n",
    "    def __init__(self):\n",
    "        self.parent = {}\n",
    "        self.rank = {}\n",
    "\n",
    "    def make_set(self, vertex):\n",
    "        self.parent[vertex] = vertex\n",
    "        self.rank[vertex] = 0\n",
    "\n",
    "    def find(self, vertex):\n",
    "        if self.parent[vertex] != vertex:\n",
    "            self.parent[vertex] = self.find(self.parent[vertex])\n",
    "        return self.parent[vertex]\n",
    "\n",
    "    def union(self, vertex1, vertex2):\n",
    "        root1 = self.find(vertex1)\n",
    "        root2 = self.find(vertex2)\n",
    "        if root1 != root2:\n",
    "            if self.rank[root1] > self.rank[root2]:\n",
    "                self.parent[root2] = root1\n",
    "            else:\n",
    "                self.parent[root1] = root2\n",
    "                if self.rank[root1] == self.rank[root2]:\n",
    "                    self.rank[root2] += 1\n",
    "\n",
    "\n",
    "def kruskal_mst(graph):\n",
    "    disjoint_set = DisjointSet()\n",
    "    mst = []\n",
    "    edges = sorted((weight, u, v) for u in graph for v, weight in graph[u].items())\n",
    "\n",
    "    for vertex in graph:\n",
    "        disjoint_set.make_set(vertex)\n",
    "\n",
    "    for weight, u, v in edges:\n",
    "        if disjoint_set.find(u) != disjoint_set.find(v):\n",
    "            disjoint_set.union(u, v)\n",
    "            mst.append((u, v, weight))\n",
    "\n",
    "    return mst\n",
    "\n",
    "\n",
    "def take_input():\n",
    "    graph = {}\n",
    "    for _ in range(int(input(\"Enter the number of edges: \"))):\n",
    "        u, v, w = input(\"Enter edge (source destination weight): \").split()\n",
    "        w = int(w)\n",
    "        graph.setdefault(u, {})[v] = w\n",
    "        graph.setdefault(v, {})[u] = w\n",
    "    return graph\n",
    "\n",
    "\n",
    "graph = take_input()\n",
    "mst = kruskal_mst(graph)\n",
    "print(\"Minimum Spanning Tree (Kruskal's Algorithm):\", mst)\n"
   ]
  },
  {
   "cell_type": "code",
   "execution_count": null,
   "id": "81472b2b-cd44-40cb-ab37-dd1f51f790f1",
   "metadata": {},
   "outputs": [],
   "source": []
  }
 ],
 "metadata": {
  "kernelspec": {
   "display_name": "Python 3 (ipykernel)",
   "language": "python",
   "name": "python3"
  },
  "language_info": {
   "codemirror_mode": {
    "name": "ipython",
    "version": 3
   },
   "file_extension": ".py",
   "mimetype": "text/x-python",
   "name": "python",
   "nbconvert_exporter": "python",
   "pygments_lexer": "ipython3",
   "version": "3.11.7"
  }
 },
 "nbformat": 4,
 "nbformat_minor": 5
}
