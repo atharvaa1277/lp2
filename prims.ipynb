{
 "cells": [
  {
   "cell_type": "code",
   "execution_count": 5,
   "id": "4ee0ebce-ca6b-4e80-a4f1-874e80c1c489",
   "metadata": {},
   "outputs": [
    {
     "name": "stdout",
     "output_type": "stream",
     "text": [
      "Enter graph details:\n"
     ]
    },
    {
     "name": "stdin",
     "output_type": "stream",
     "text": [
      "Enter the number of vertices:  6\n",
      "Enter the number of edges:  10\n"
     ]
    },
    {
     "name": "stdout",
     "output_type": "stream",
     "text": [
      "Enter edges in the format 'source destination weight': \n"
     ]
    },
    {
     "name": "stdin",
     "output_type": "stream",
     "text": [
      " s a 12\n",
      " s b 8\n",
      " a b 9\n",
      " a c 22\n",
      " a e 11\n",
      " b e 14\n",
      " b c 16\n",
      " c e 18\n",
      " c d 15\n",
      " e d 3\n"
     ]
    },
    {
     "name": "stdout",
     "output_type": "stream",
     "text": [
      "Minimum Spanning Tree edges using Prim's algorithm:\n",
      "('b', 'a', 9)\n",
      "('s', 'b', 8)\n",
      "('d', 'c', 15)\n",
      "('a', 'e', 11)\n",
      "('e', 'd', 3)\n",
      "Total cost of Minimum Spanning Tree: 46\n"
     ]
    }
   ],
   "source": [
    "class Graph:\n",
    "    def __init__(self, vertices):\n",
    "        self.V = vertices\n",
    "        self.vertices_dict = {}\n",
    "        self.graph = [[] for _ in range(vertices)]\n",
    "\n",
    "    def add_edge(self, u, v, w):\n",
    "        u_index = self.get_vertex_index(u)\n",
    "        v_index = self.get_vertex_index(v)\n",
    "        self.graph[u_index].append((v_index, w))\n",
    "        self.graph[v_index].append((u_index, w))\n",
    "\n",
    "    def get_vertex_index(self, vertex):\n",
    "        if vertex not in self.vertices_dict:\n",
    "            index = len(self.vertices_dict)\n",
    "            self.vertices_dict[vertex] = index\n",
    "            return index\n",
    "        return self.vertices_dict[vertex]\n",
    "\n",
    "    def prim_mst(self):\n",
    "        visited = [False] * self.V\n",
    "        key = [float('inf')] * self.V\n",
    "        parent = [-1] * self.V\n",
    "        key[0] = 0\n",
    "\n",
    "        for _ in range(self.V):\n",
    "            u = self.min_key(key, visited)\n",
    "            visited[u] = True\n",
    "            for v, weight in self.graph[u]:\n",
    "                if not visited[v] and weight < key[v]:\n",
    "                    key[v] = weight\n",
    "                    parent[v] = u\n",
    "\n",
    "        mst_edges = [(self.get_vertex_name(parent[i]), self.get_vertex_name(i), key[i]) for i in range(1, self.V)]\n",
    "        return mst_edges, sum(key[1:])\n",
    "\n",
    "    def min_key(self, key, visited):\n",
    "        min_val = float('inf')\n",
    "        min_index = -1\n",
    "        for v in range(self.V):\n",
    "            if not visited[v] and key[v] < min_val:\n",
    "                min_val = key[v]\n",
    "                min_index = v\n",
    "        return min_index\n",
    "\n",
    "    def get_vertex_name(self, index):\n",
    "        for name, idx in self.vertices_dict.items():\n",
    "            if idx == index:\n",
    "                return name\n",
    "\n",
    "\n",
    "def take_input():\n",
    "    vertices = int(input(\"Enter the number of vertices: \"))\n",
    "    edges = int(input(\"Enter the number of edges: \"))\n",
    "    g = Graph(vertices)\n",
    "    print(\"Enter edges in the format 'source destination weight': \")\n",
    "    for _ in range(edges):\n",
    "        u, v, w = input().split()\n",
    "        g.add_edge(u, v, int(w))\n",
    "    return g\n",
    "\n",
    "\n",
    "print(\"Enter graph details:\")\n",
    "graph = take_input()\n",
    "mst_edges, total_cost = graph.prim_mst()\n",
    "print(\"Minimum Spanning Tree edges using Prim's algorithm:\")\n",
    "for edge in mst_edges:\n",
    "    print(edge)\n",
    "print(\"Total cost of Minimum Spanning Tree:\", total_cost)\n"
   ]
  },
  {
   "cell_type": "code",
   "execution_count": null,
   "id": "2298bdc4-a353-4d7a-8394-b072e2cefce8",
   "metadata": {},
   "outputs": [],
   "source": []
  }
 ],
 "metadata": {
  "kernelspec": {
   "display_name": "Python 3 (ipykernel)",
   "language": "python",
   "name": "python3"
  },
  "language_info": {
   "codemirror_mode": {
    "name": "ipython",
    "version": 3
   },
   "file_extension": ".py",
   "mimetype": "text/x-python",
   "name": "python",
   "nbconvert_exporter": "python",
   "pygments_lexer": "ipython3",
   "version": "3.11.7"
  }
 },
 "nbformat": 4,
 "nbformat_minor": 5
}
