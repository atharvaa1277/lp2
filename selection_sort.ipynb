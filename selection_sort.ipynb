{
 "cells": [
  {
   "cell_type": "code",
   "execution_count": 1,
   "id": "3eadc63d-dab5-43fc-95a2-27aeb93e2a96",
   "metadata": {},
   "outputs": [
    {
     "name": "stdout",
     "output_type": "stream",
     "text": [
      "Enter number of elements:\n"
     ]
    },
    {
     "name": "stdin",
     "output_type": "stream",
     "text": [
      " 5\n"
     ]
    },
    {
     "name": "stdout",
     "output_type": "stream",
     "text": [
      "Enter elements:\n"
     ]
    },
    {
     "name": "stdin",
     "output_type": "stream",
     "text": [
      " 8\n",
      " 3 \n",
      " 1\n",
      " 9\n",
      " 2\n"
     ]
    },
    {
     "name": "stdout",
     "output_type": "stream",
     "text": [
      "Before Selection Sort:\n",
      "8 3 1 9 2\n",
      "After Selection Sort:\n",
      "1 2 3 8 9\n"
     ]
    }
   ],
   "source": [
    "def selection_sort(arr):\n",
    "    for i in range(len(arr)):\n",
    "        min_index = i\n",
    "        for j in range(i + 1, len(arr)):\n",
    "            if arr[j] < arr[min_index]:\n",
    "                min_index = j\n",
    "        arr[i], arr[min_index] = arr[min_index], arr[i]\n",
    "\n",
    "if __name__ == \"__main__\":\n",
    "    print(\"Enter number of elements:\")\n",
    "    n = int(input())\n",
    "    arr = []\n",
    "\n",
    "    print(\"Enter elements:\")\n",
    "    for i in range(n):\n",
    "        arr.append(int(input()))\n",
    "\n",
    "    print(\"Before Selection Sort:\")\n",
    "    print(*arr)\n",
    "\n",
    "    selection_sort(arr)\n",
    "\n",
    "    print(\"After Selection Sort:\")\n",
    "    print(*arr)\n",
    "\n",
    "\n",
    "\n"
   ]
  },
  {
   "cell_type": "code",
   "execution_count": 7,
   "id": "0c0fa702-61ce-44bc-b6dc-05954600b08c",
   "metadata": {},
   "outputs": [
    {
     "name": "stdout",
     "output_type": "stream",
     "text": [
      "enter no of elements\n"
     ]
    },
    {
     "name": "stdin",
     "output_type": "stream",
     "text": [
      " 4\n"
     ]
    },
    {
     "name": "stdout",
     "output_type": "stream",
     "text": [
      "enter elements\n"
     ]
    },
    {
     "name": "stdin",
     "output_type": "stream",
     "text": [
      " 1\n",
      " 6\n",
      " 3\n",
      " 2\n"
     ]
    },
    {
     "name": "stdout",
     "output_type": "stream",
     "text": [
      "before sorting\n",
      "1 6 3 2\n",
      "after sorting\n",
      "1 2 3 6\n"
     ]
    }
   ],
   "source": [
    "def Selection_sort(arr):\n",
    "    for i in range(len(arr)):\n",
    "        min_index=i\n",
    "        for j in range(i+1,len(arr)):\n",
    "            if arr[j]<arr[min_index]:\n",
    "                min_index=j\n",
    "        arr[i],arr[min_index]=arr[min_index],arr[i]\n",
    "\n",
    "if __name__==\"__main__\":\n",
    "    print(\"enter no of elements\")\n",
    "    n=int(input())\n",
    "    arr=[]\n",
    "    print(\"enter elements\")\n",
    "    for i in range(n):\n",
    "        arr.append(int(input()))\n",
    "        \n",
    "    print(\"before sorting\")\n",
    "    print(*arr)\n",
    "        \n",
    "    selection_sort(arr)\n",
    "        \n",
    "    print(\"after sorting\")\n",
    "    print(*arr)\n",
    "            "
   ]
  },
  {
   "cell_type": "code",
   "execution_count": 12,
   "id": "ed3b61f3-7235-4d91-b337-c4fbdd4f874d",
   "metadata": {},
   "outputs": [
    {
     "name": "stdout",
     "output_type": "stream",
     "text": [
      "enter no of elements\n"
     ]
    },
    {
     "name": "stdin",
     "output_type": "stream",
     "text": [
      " 4\n"
     ]
    },
    {
     "name": "stdout",
     "output_type": "stream",
     "text": [
      "enter elements\n"
     ]
    },
    {
     "name": "stdin",
     "output_type": "stream",
     "text": [
      " 2\n",
      " 7\n",
      " 1\n",
      " 3\n"
     ]
    },
    {
     "name": "stdout",
     "output_type": "stream",
     "text": [
      "before\n",
      "2 7 1 3\n",
      "after\n",
      "1 2 3 7\n"
     ]
    }
   ],
   "source": [
    "def Selection_sort(arr):\n",
    "    for i in range(len(arr)):\n",
    "        min_index=i\n",
    "        for j in range(i+1,len(arr)):\n",
    "            if arr[j]<arr[min_index]:\n",
    "                min_index=j\n",
    "        arr[i],arr[min_index]=arr[min_index],arr[i]\n",
    "\n",
    "if __name__==\"__main__\":\n",
    "    print(\"enter no of elements\")\n",
    "    n=int(input())\n",
    "    arr=[]\n",
    "    print(\"enter elements\")\n",
    "    for i in range(n):\n",
    "        arr.append(int(input()))\n",
    "    print(\"before\")\n",
    "    print(*arr)\n",
    "    Selection_sort(arr)\n",
    "    print(\"after\")\n",
    "    print(*arr)"
   ]
  },
  {
   "cell_type": "code",
   "execution_count": 13,
   "id": "4c7a19fa-342b-4f02-af0f-b2d459f7c989",
   "metadata": {},
   "outputs": [
    {
     "name": "stdout",
     "output_type": "stream",
     "text": [
      "Jobs scheduled : ['j1', 'j2', 'j4', 'j5']\n",
      "292\n"
     ]
    }
   ],
   "source": [
    "# Jobs, Profit, Slot\n",
    "profit = [15,27,10,100, 150]\n",
    "jobs = [\"j1\", \"j2\", \"j3\", \"j4\", \"j5\"]\n",
    "deadline = [2,3,3,3,4]\n",
    "profitNJobs = list(zip(profit,jobs,deadline))\n",
    "profitNJobs = sorted(profitNJobs, key = lambda x: x[0], reverse = True)\n",
    "slot = []\n",
    "for _ in range(len(jobs)):\n",
    "    slot.append(0)\n",
    "\n",
    "profit = 0\n",
    "ans = []\n",
    "\n",
    "for i in range(len(jobs)):\n",
    "    ans.append('null')\n",
    "\n",
    "for i in range(len(jobs)):\n",
    "        job = profitNJobs[i]\n",
    "        #check if slot is occupied\n",
    "        for j in range(job[2], 0, -1):\n",
    "            if slot[j] == 0:\n",
    "                ans[j] = job[1]\n",
    "                profit += job[0]\n",
    "                slot[j] = 1\n",
    "                break\n",
    "\n",
    "print(\"Jobs scheduled :\",ans[1:])\n",
    "print(profit)\n",
    "\n",
    "#Jobs scheduled : ['j1', 'j2', 'j4', 'j5']\n",
    "#292\n",
    "\n",
    "#=== Code Execution Successful ==="
   ]
  },
  {
   "cell_type": "code",
   "execution_count": 19,
   "id": "f15d1baf-e6a4-4acd-a05a-52721cead109",
   "metadata": {},
   "outputs": [
    {
     "name": "stdout",
     "output_type": "stream",
     "text": [
      "scheduled jobs ['j3', 'j3', 'j3']\n",
      "30\n"
     ]
    }
   ],
   "source": [
    "profit=[20,50,70,150]\n",
    "jobs=[\"j1\",\"j2\",\"j3\",\"j4\"]\n",
    "deadline=[2,3,3,4]\n",
    "profitN=list(zip(profit,jobs,deadline))\n",
    "profitN=sorted(profitN,key=lambda x: x[0],reverse=True)\n",
    "\n",
    "slot=[]\n",
    "for _ in range(len(jobs)):\n",
    "    slot.append(0)\n",
    "\n",
    "profit=0\n",
    "ans=[]\n",
    "for i in range(len(jobs)):\n",
    "    ans.append('null')\n",
    "\n",
    "for i in range(len(jobs)):\n",
    "    jobs=profitN[i]\n",
    "    for j in range(job[2], 0, -1):\n",
    "            if slot[j] == 0:\n",
    "                ans[j] = job[1]\n",
    "                profit += job[0]\n",
    "                slot[j] = 1\n",
    "                break\n",
    "\n",
    "print(\"scheduled jobs\",ans[1:])\n",
    "print(profit)"
   ]
  },
  {
   "cell_type": "code",
   "execution_count": null,
   "id": "c42f6b94-8698-4d0c-ba61-c4bfdff98052",
   "metadata": {},
   "outputs": [],
   "source": []
  }
 ],
 "metadata": {
  "kernelspec": {
   "display_name": "Python 3 (ipykernel)",
   "language": "python",
   "name": "python3"
  },
  "language_info": {
   "codemirror_mode": {
    "name": "ipython",
    "version": 3
   },
   "file_extension": ".py",
   "mimetype": "text/x-python",
   "name": "python",
   "nbconvert_exporter": "python",
   "pygments_lexer": "ipython3",
   "version": "3.11.7"
  }
 },
 "nbformat": 4,
 "nbformat_minor": 5
}
